{
 "cells": [
  {
   "cell_type": "markdown",
   "metadata": {
    "ein.tags": [
     "worksheet-0"
    ],
    "slideshow": {
     "slide_type": "-"
    }
   },
   "source": [
    "# HW 1: Python Programming\n",
    "\n",
    "This assignment is designed to help you better understand python syntax and make you familiar with programming in python. The submission deadline is **11:59 pm Sep. 2, 2019**. \n",
    "\n",
    "- Please code your solution directly into the cell provided.\n",
    "- **DO NOT** use (i.e., import) any other packages unless you are asked to.\n",
    "- submission deadline: by 11:59pm Sep. 2, 2019\n",
    "- name the file \"hw1.ipynb\"\n",
    "- submit it to the \"hw1\" dropbox on the eLC\n",
    "\n",
    "\n",
    "## Part 1: Python\n",
    "In class, we briefly talked about how to manipulate strings in python. Especially, one of the task you will frequently do in a _data analysis_ is to read data from text files and preprocess them to have the data type you want.\n",
    "\n",
    "### Q1 (String manipulation). Define a python function that removes all punctuations and  from a string. (10 pts)\n",
    "- Python's string package has a definition for punctuations\n",
    "- You are allowed to use `string` package, and see the documentation [here](https://docs.python.org/3/library/string.html).\n",
    "- Read Section 5.1.3 in this [page](https://docs.python.org/3/tutorial/datastructures.html#list-comprehensions).\n",
    "- You are recommended to use the list comprehension for this problem."
   ]
  },
  {
   "cell_type": "code",
   "execution_count": 1,
   "metadata": {},
   "outputs": [
    {
     "name": "stdout",
     "output_type": "stream",
     "text": [
      "!\"#$%&'()*+,-./:;<=>?@[\\]^_`{|}~\n"
     ]
    }
   ],
   "source": [
    "import string\n",
    "\n",
    "print(string.punctuation)"
   ]
  },
  {
   "cell_type": "code",
   "execution_count": 2,
   "metadata": {},
   "outputs": [
    {
     "name": "stdout",
     "output_type": "stream",
     "text": [
      "Hello, class! Having 'FUN' with HW1?\n",
      "Hello class Having FUN with HW1\n"
     ]
    }
   ],
   "source": [
    "def remove_punc(mystring):\n",
    "    \"\"\"\n",
    "    This function removes all punctuations from the given string.\n",
    "    \n",
    "    Parameters\n",
    "    --------------\n",
    "    mystring: string\n",
    "    \n",
    "    Returns\n",
    "    --------------\n",
    "    ret: the string with punctuations removed\n",
    "    \"\"\"\n",
    "    import string\n",
    "    puncs = []\n",
    "    mylist = []\n",
    "    mystring = \"\"\n",
    "    for x in string.punctuation:\n",
    "        puncs += x\n",
    "    for x in test_string:\n",
    "        mylist += x\n",
    "    for x in mylist:\n",
    "        for y in puncs:\n",
    "            if x == y:\n",
    "                mylist.remove(x)\n",
    "    for x in mylist:\n",
    "        mystring += x\n",
    "        \n",
    "    ret = mystring\n",
    "\n",
    "    \n",
    "    return ret\n",
    "    \n",
    "test_string = \"Hello, class! Having 'FUN' with HW1?\"\n",
    "print(test_string)\n",
    "print(remove_punc(test_string))"
   ]
  },
  {
   "cell_type": "markdown",
   "metadata": {},
   "source": [
    "### Q2 (Working with files). Write a program that extracts the following information from 'mpg.csv'.  (25 pts)\n",
    "- You can download 'mpg.csv' from [here](http://cs.uga.edu/~jwlee/datasets/mpg.csv).\n",
    "- Only use built-in functions and do not import other packages for this problem.\n",
    "- The file is written in <font color='red'>csv</font> format, i.e., values are separated by commas.\n",
    "- The first line of file is a header.\n",
    "- Each **row** corresponds to a car.\n",
    "- For each car, the file contains measurements for **11 features** (columns).\n",
    "    - manufacturer\n",
    "    - model\n",
    "    - displ (displacement)\n",
    "    - year\n",
    "    - cyl (# of cylinder)\n",
    "    - trans (transmission type)\n",
    "    - drv (drivetrain (FWD, RWD, 4WD))\n",
    "    - cty (city MPG)\n",
    "    - hwy (highway MPG)\n",
    "    - fl (fuel type)\n",
    "    - class (type of car)\n",
    "- Write a function that read the file and returns the data as a list of list.\n",
    "    - Your function retunrs a list, and each element in that list is also a list.\n",
    "    - Each sublist contains 11 elements, each of which corresponds to a feature.\n",
    "    - Values should not contain double-quotation marks.    "
   ]
  },
  {
   "cell_type": "code",
   "execution_count": 3,
   "metadata": {},
   "outputs": [
    {
     "ename": "IndentationError",
     "evalue": "expected an indented block (<ipython-input-3-da207af8141b>, line 28)",
     "output_type": "error",
     "traceback": [
      "\u001b[0;36m  File \u001b[0;32m\"<ipython-input-3-da207af8141b>\"\u001b[0;36m, line \u001b[0;32m28\u001b[0m\n\u001b[0;31m    if x.startswith('\"') and x.endswith('\"'):\u001b[0m\n\u001b[0m     ^\u001b[0m\n\u001b[0;31mIndentationError\u001b[0m\u001b[0;31m:\u001b[0m expected an indented block\n"
     ]
    }
   ],
   "source": [
    "def read_csv(filename, has_header=True):\n",
    "    \"\"\"\n",
    "    Read data from a csv file and returns it as a list\n",
    "    \n",
    "    Parameters:\n",
    "    -------------------------\n",
    "    filename: string, path to the file to open\n",
    "    has_header: boolean, If True, the file contains a header\n",
    "    \n",
    "    Return:\n",
    "    -------------------------\n",
    "    data: a python list that contains the data\n",
    "    \"\"\"\n",
    "    #-----------------------------------#\n",
    "    with open('./mpg.csv', 'r') as mpg:\n",
    "        if has_header:\n",
    "            mpg.readline()\n",
    "      \n",
    "        # Get first data line\n",
    "        line = mpg.readline()\n",
    "        \n",
    "        data = []\n",
    "        while(line):\n",
    "            row = line.split(',')\n",
    "\n",
    "            temp = []\n",
    "            for x in row:\n",
    "                if x.startswith('\"') and x.endswith('\"'): \n",
    "                    x = x[1:-1]\n",
    "                temp.append(x)\n",
    "\n",
    "            data.append(temp)\n",
    "\n",
    "            # get next line\n",
    "            line = mpg.readline()\n",
    "\n",
    "    #-----------------------------------#\n",
    "    \n",
    "    \n",
    "    return data\n",
    "\n",
    "\n",
    "# let's test if your code works\n",
    "mydata = read_csv('./mpg.csv', has_header=True)\n",
    "print(\"# of rows={}\".format(len(mydata)))"
   ]
  },
  {
   "cell_type": "markdown",
   "metadata": {},
   "source": [
    "### Q3 (Counting different categories).  Complete the following python function that counts the number of cars for each category in the given categorical variable. (15 pts)\n",
    "- Use only the built-in functions (do not use numpy and other packages)\n",
    "- The return value of `count_categorical` function is a list of tuples: [(category1, count1), category2, count2), ...]\n",
    "    - For example, `count_categorical(0)` will return [('audi', 18), ('chevrolet', 19), ..].\n",
    "- If the given index corresponds to a continuous variable, print out an error message and return `None`.\n"
   ]
  },
  {
   "cell_type": "code",
   "execution_count": 421,
   "metadata": {},
   "outputs": [
    {
     "name": "stdout",
     "output_type": "stream",
     "text": [
      "[('toyota', 34)]\n",
      "[('jeep', 8)]\n",
      "[('lincoln', 3)]\n",
      "[('nissan', 13)]\n",
      "[('honda', 9)]\n",
      "[('ford', 25)]\n",
      "[('subaru', 14)]\n",
      "[('dodge', 37)]\n",
      "[('mercury', 4)]\n",
      "[('pontiac', 5)]\n",
      "[('chevrolet', 19)]\n",
      "[('audi', 18)]\n",
      "[('volkswagen', 26)]\n",
      "[('land rover', 4)]\n",
      "[('hyundai', 14)]\n",
      "hyundai     :    14\n"
     ]
    }
   ],
   "source": [
    "def count_categorical(data, index):\n",
    "    \"\"\"\n",
    "    Counts the number of observations in each category of a variable\n",
    "    \n",
    "    Parameters:\n",
    "    -----------------------\n",
    "    data: list, list of observations\n",
    "    index: int, index for the (categorical) variable\n",
    "    \n",
    "    Returns:\n",
    "    -----------------------\n",
    "    categories: a list that contains (category, count) pairs\n",
    "    \"\"\"\n",
    "    #-----------------------------------#\n",
    "    itemSet = set()\n",
    "    categories = []\n",
    "    itemlist = []\n",
    "    count = set()\n",
    "\n",
    "    for x in range(len(data)-1):\n",
    "            itemSet.add(data[x][0])     #set of the categories\n",
    "            itemlist.append(data[x][0])   #list of the categories\n",
    "    for x in itemSet:\n",
    "            categories = [(x, itemlist.count(x))]\n",
    "            #print(categories)            #if you print categories it shows all of the pairs\n",
    "        \n",
    "    #-----------------------------------#    \n",
    "    \n",
    "    return categories\n",
    "\n",
    "\n",
    "# test code\n",
    "categories = count_categorical(mydata, 0)\n",
    "for cat, cnt in categories:\n",
    "    print(\"{0:12s}: {1:5d}\".format(cat, cnt))"
   ]
  },
  {
   "cell_type": "markdown",
   "metadata": {},
   "source": [
    "### Q4 (Computing descriptive statistics). Complete the following function that computes simple statistics from the given dataset. (10 pts)\n",
    "- Use only the built-in functions (do not use numpy and any other packages)\n",
    "- The return value of `summarize_numerical` is a tuple: (min, mean, variance, max).\n",
    "    - min: minimum value of the variable (in the dataset)\n",
    "    - mean: mean $\\mu$ of the variable,  $\\mu = \\frac{1}{n}\\sum_{i=1}^n X_i$, where $n$ is the total number of observations\n",
    "    - variance: variance of the variable $\\frac{1}{n}\\sum_{i=1}^n (X_i - \\mu)^2$\n",
    "    - max: maximum value\n",
    "- If the variable corresponding to `index` is not a numerical variable, print an error message and return None."
   ]
  },
  {
   "cell_type": "code",
   "execution_count": 386,
   "metadata": {},
   "outputs": [
    {
     "name": "stdout",
     "output_type": "stream",
     "text": [
      "(Min, Max) = (1.6, 9)\n",
      "(mean, var) = (410.6319658119661, 634918.1515179423)\n"
     ]
    }
   ],
   "source": [
    "def summarize_numerical(data, index):\n",
    "    \"\"\"\n",
    "    Returns a summary statistics for a numerical variable\n",
    "    \n",
    "    Parameters:\n",
    "    -----------------------\n",
    "    data: list, list of observations\n",
    "    index: int, index for the (numerical) variable\n",
    "    \n",
    "    Returns:\n",
    "    -----------------------\n",
    "    summary: a tuple\n",
    "    \"\"\"\n",
    "    \n",
    "    #-----------------------------------#\n",
    "    lis = []\n",
    "    for x in range(len(data)):\n",
    "        lis.append(data[x][2])\n",
    "        lis.append(data[x][3])\n",
    "        lis.append(data[x][4])\n",
    "        lis.append(data[x][7])\n",
    "        lis.append(data[x][8])\n",
    "       \n",
    "    mysum = 0.0\n",
    "    for x in lis:\n",
    "        mysum = mysum + float(x)   #sum\n",
    "    x_mean = mysum/float(len(lis)) #mean\n",
    "    x_max = max(lis)               #max\n",
    "    x_min = min(lis)               #min\n",
    "    varz = 0.0\n",
    "    va = 0.0\n",
    "    nlis = []\n",
    "    \n",
    "    for x in lis:\n",
    "        varz = float(x) - x_mean  #subtract mean from each object\n",
    "        va = varz * varz          #square those\n",
    "        nlis.append(va)           #put them into a list\n",
    "    newsum = 0.0\n",
    "    \n",
    "    for x in nlis:\n",
    "        newsum += float(x)        #sum of squared values\n",
    "        x_var = newsum/float(len(nlis)-1)   #variance\n",
    "    #-----------------------------------#   \n",
    "    \n",
    "    \n",
    "    return (x_min, x_mean, x_var, x_max)\n",
    "\n",
    "\n",
    "# test code \n",
    "x_min, x_mean, x_var, x_max = summarize_numerical(mydata, 7)\n",
    "print(\"(Min, Max) = ({}, {})\".format(x_min, x_max))\n",
    "print(\"(mean, var) = ({}, {})\".format(x_mean, x_var))"
   ]
  },
  {
   "cell_type": "markdown",
   "metadata": {},
   "source": [
    "## Part 2: Numpy\n",
    "\n",
    "As we saw in class, the *numpy* package provides functions that can easily load data from a file, where values are separated by *delimiters*. In fact, the functions you implemented in Q2 and Q4 are already implemented in numpy. However, numpy can only handle numerical variables. Recall that **array** is a container to store data objects of <font color='red'>*homogeneous*</font> types. "
   ]
  },
  {
   "cell_type": "code",
   "execution_count": 240,
   "metadata": {},
   "outputs": [],
   "source": [
    "import numpy as np"
   ]
  },
  {
   "cell_type": "markdown",
   "metadata": {},
   "source": [
    "### Q5. Find a function that read a csv file and returns data as a (2D) numpy array (5 pts).\n",
    "- Read [this](https://docs.scipy.org/doc/numpy/reference/generated/numpy.genfromtxt.html#numpy-genfromtxt) page to see what parameters are available.\n",
    "- You will need to skip reading the non-numerical variables. Alternatively, you can load all variables and then remove columns with 'nan (not a number)' values."
   ]
  },
  {
   "cell_type": "code",
   "execution_count": 69,
   "metadata": {},
   "outputs": [
    {
     "name": "stdout",
     "output_type": "stream",
     "text": [
      "# of observations = 234\n",
      "# of columns = 5\n"
     ]
    }
   ],
   "source": [
    "# to load numerical variables from the file, you just need one line of code\n",
    "import numpy as np\n",
    "# In what follows, you will be using my_array as your dataset\n",
    "my_array = np.genfromtxt(open(\"mpg.csv\",\"rb\"),delimiter = \",\", skip_header = 1, usecols = (2,3,4,7,8))\n",
    "# test\n",
    "print(\"# of observations = {}\".format(my_array.shape[0]))\n",
    "print(\"# of columns = {}\".format(my_array.shape[1]))"
   ]
  },
  {
   "cell_type": "markdown",
   "metadata": {},
   "source": [
    "# Q6. For each (numerical) variable, computes the following statistics using numpy (5 pts) : \n",
    "- mininum value\n",
    "- 25% percentile\n",
    "- median\n",
    "- 75% percentile\n",
    "- maximum\n",
    "- mean\n",
    "- variance\n",
    "\n",
    "To see which functions are available in numpy for computing statistics, you can refer to this [page](https://docs.scipy.org/doc/numpy/reference/routines.statistics.html). If you are interested in knowing the comprehensive list, see [here](https://docs.scipy.org/doc/numpy/reference/index.html)."
   ]
  },
  {
   "cell_type": "code",
   "execution_count": 124,
   "metadata": {},
   "outputs": [
    {
     "name": "stdout",
     "output_type": "stream",
     "text": [
      "1.6, 5.3, 16.0, 28.0, 2008.0, 410.6319658119658, 634375.4864311783\n"
     ]
    }
   ],
   "source": [
    "#-----------------------------------#\n",
    "mini = np.amin(my_array)\n",
    "tfper = np.percentile(my_array, 25)\n",
    "med = np.median(my_array)\n",
    "sfper = np.percentile(my_array, 75)\n",
    "maxi = np.amax(my_array)\n",
    "mean = np.mean(my_array)\n",
    "var = np.var(my_array)\n",
    "print(mini, tfper, med, sfper, maxi, mean, var, sep = ', ')\n",
    "#-----------------------------------#   \n",
    "\n",
    "\n"
   ]
  },
  {
   "cell_type": "markdown",
   "metadata": {},
   "source": [
    "### Q7. Using boolean index, select the rows with hwy > 30, and then compute the mean of selected rows (5 pts).\n",
    "- To understand \"boolean indexing\", read this [page](https://www.numpy.org/devdocs/reference/arrays.indexing.html#advanced-indexing)."
   ]
  },
  {
   "cell_type": "code",
   "execution_count": 388,
   "metadata": {},
   "outputs": [
    {
     "name": "stdout",
     "output_type": "stream",
     "text": [
      "23.44017094017094\n"
     ]
    }
   ],
   "source": [
    "#-----------------------------------#\n",
    "mylist = []\n",
    "row = -1\n",
    "col = -1\n",
    "for x in my_array[1]:\n",
    "    col += 1\n",
    "for x in my_array:\n",
    "    row+= 1\n",
    "    mylist.append(my_array[[row], [col]])\n",
    "\n",
    "print(np.mean(mylist))\n",
    "\n",
    "\n",
    "        \n",
    "#-----------------------------------#   \n",
    "\n",
    "\n"
   ]
  },
  {
   "cell_type": "raw",
   "metadata": {},
   "source": [
    "# Q8 (Working with graph data). A simple way to represent a graph data is to express them as a list of pairs of node IDs. See the following example. (25 pts)\n",
    "![simple graph](http://cs.uga.edu/~jwlee/teaching/csci3360/images/simple_graph.png)\n",
    "- The above graph can be represented by the following list:\n",
    "    - (1, 2)\n",
    "    - (1, 3)\n",
    "    - (1, 5)\n",
    "    - (2, 3)\n",
    "    - (2, 4)\n",
    "    - (2, 5)\n",
    "- Notice that the list covers all the \"friends\" relationships in the graph.\n",
    "- Your task is to read data written in this format and store them into a python data structure (e.g., list, dictionary, or array) such that later we can easily access the information we need.\n",
    "- Download \"[mygraph.txt](http://cs.uga.edu/~jwlee/datasets/mygraph.txt)\" file\n",
    "- Load data from the file, process, and store in into a data structure of your choice (list, directionary, or array)\n",
    "- Write a function that takes two user id as input and returns the ids of common friends.\n",
    "- You can use numpy package for this problem.\n",
    "- You may find python's built-in [set](https://docs.python.org/2/library/stdtypes.html#set-types-set-frozenset) useful.\n",
    "- If two users have no friend in common, an empty list should be returned.\n"
   ]
  },
  {
   "cell_type": "code",
   "execution_count": 427,
   "metadata": {},
   "outputs": [
    {
     "ename": "TypeError",
     "evalue": "only integer scalar arrays can be converted to a scalar index",
     "output_type": "error",
     "traceback": [
      "\u001b[0;31m---------------------------------------------------------------------------\u001b[0m",
      "\u001b[0;31mTypeError\u001b[0m                                 Traceback (most recent call last)",
      "\u001b[0;32m<ipython-input-427-9a1675e0dc33>\u001b[0m in \u001b[0;36m<module>\u001b[0;34m\u001b[0m\n\u001b[1;32m     31\u001b[0m \u001b[0;34m\u001b[0m\u001b[0m\n\u001b[1;32m     32\u001b[0m \u001b[0;31m# test code\u001b[0m\u001b[0;34m\u001b[0m\u001b[0;34m\u001b[0m\u001b[0;34m\u001b[0m\u001b[0m\n\u001b[0;32m---> 33\u001b[0;31m \u001b[0mfriends\u001b[0m \u001b[0;34m=\u001b[0m \u001b[0mcommon_friends\u001b[0m\u001b[0;34m(\u001b[0m\u001b[0;36m0\u001b[0m\u001b[0;34m,\u001b[0m \u001b[0;36m1\u001b[0m\u001b[0;34m)\u001b[0m\u001b[0;34m\u001b[0m\u001b[0;34m\u001b[0m\u001b[0m\n\u001b[0m\u001b[1;32m     34\u001b[0m \u001b[0mprint\u001b[0m\u001b[0;34m(\u001b[0m\u001b[0;34m','\u001b[0m\u001b[0;34m.\u001b[0m\u001b[0mjoin\u001b[0m\u001b[0;34m(\u001b[0m\u001b[0mfriends\u001b[0m\u001b[0;34m)\u001b[0m\u001b[0;34m)\u001b[0m\u001b[0;34m\u001b[0m\u001b[0;34m\u001b[0m\u001b[0m\n",
      "\u001b[0;32m<ipython-input-427-9a1675e0dc33>\u001b[0m in \u001b[0;36mcommon_friends\u001b[0;34m(user_id1, user_id2)\u001b[0m\n\u001b[1;32m     22\u001b[0m         \u001b[0mmylist\u001b[0m\u001b[0;34m.\u001b[0m\u001b[0mappend\u001b[0m\u001b[0;34m(\u001b[0m\u001b[0mmyarray\u001b[0m\u001b[0;34m)\u001b[0m            \u001b[0;31m#put elements into list\u001b[0m\u001b[0;34m\u001b[0m\u001b[0;34m\u001b[0m\u001b[0m\n\u001b[1;32m     23\u001b[0m     \u001b[0;32mfor\u001b[0m \u001b[0mx\u001b[0m \u001b[0;32min\u001b[0m \u001b[0mmylist\u001b[0m\u001b[0;34m:\u001b[0m\u001b[0;34m\u001b[0m\u001b[0;34m\u001b[0m\u001b[0m\n\u001b[0;32m---> 24\u001b[0;31m         \u001b[0mlis\u001b[0m \u001b[0;34m=\u001b[0m \u001b[0mmylist\u001b[0m\u001b[0;34m[\u001b[0m\u001b[0mx\u001b[0m\u001b[0;34m]\u001b[0m\u001b[0;34m[\u001b[0m\u001b[0;36m0\u001b[0m\u001b[0;34m]\u001b[0m                \u001b[0;31m#attempting to index\u001b[0m\u001b[0;34m\u001b[0m\u001b[0;34m\u001b[0m\u001b[0m\n\u001b[0m\u001b[1;32m     25\u001b[0m         \u001b[0mprint\u001b[0m\u001b[0;34m(\u001b[0m\u001b[0mlis\u001b[0m\u001b[0;34m)\u001b[0m\u001b[0;34m\u001b[0m\u001b[0;34m\u001b[0m\u001b[0m\n\u001b[1;32m     26\u001b[0m \u001b[0;34m\u001b[0m\u001b[0m\n",
      "\u001b[0;31mTypeError\u001b[0m: only integer scalar arrays can be converted to a scalar index"
     ]
    }
   ],
   "source": [
    "def common_friends(user_id1, user_id2):\n",
    "    \"\"\"\n",
    "    Returns a list of common friends of two users\n",
    "    \n",
    "    Parameters:\n",
    "    -------------------\n",
    "    user_id1: int, user id of user1\n",
    "    user_id2: int, user id of user2\n",
    "    \n",
    "    Returns:\n",
    "    -------------------\n",
    "    friends: list, a list of user ids who are friends with both user1 and user2\n",
    "    \"\"\"\n",
    "    \n",
    "    #-----------------------------------#\n",
    "    import numpy as np\n",
    "    myset = set()\n",
    "    mylist = []\n",
    "    myarray = np.loadtxt(\"mygraph.txt\")   #store into array\n",
    "    newlist = []  \n",
    "    for x in myarray:\n",
    "        mylist.append(myarray)            #put elements into list\n",
    "    for x in mylist:\n",
    "        lis = mylist[x][0]                #attempting to index\n",
    "        print(lis)\n",
    "    \n",
    "    #-----------------------------------#\n",
    "    \n",
    "    return friends\n",
    "\n",
    "\n",
    "# test code\n",
    "friends = common_friends(0, 1)\n",
    "print(','.join(friends))"
   ]
  },
  {
   "cell_type": "code",
   "execution_count": null,
   "metadata": {},
   "outputs": [],
   "source": []
  },
  {
   "cell_type": "code",
   "execution_count": null,
   "metadata": {},
   "outputs": [],
   "source": []
  }
 ],
 "metadata": {
  "kernelspec": {
   "display_name": "Python 3",
   "language": "python",
   "name": "python3"
  },
  "language_info": {
   "codemirror_mode": {
    "name": "ipython",
    "version": 3
   },
   "file_extension": ".py",
   "mimetype": "text/x-python",
   "name": "python",
   "nbconvert_exporter": "python",
   "pygments_lexer": "ipython3",
   "version": "3.6.7"
  },
  "name": "CSCI3360_HW0.ipynb"
 },
 "nbformat": 4,
 "nbformat_minor": 2
}
