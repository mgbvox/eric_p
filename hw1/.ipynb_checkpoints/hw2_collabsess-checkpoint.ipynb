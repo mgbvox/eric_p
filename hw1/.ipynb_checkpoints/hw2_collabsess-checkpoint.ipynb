{
 "cells": [
  {
   "cell_type": "code",
   "execution_count": 1,
   "metadata": {},
   "outputs": [
    {
     "name": "stdout",
     "output_type": "stream",
     "text": [
      "Populating the interactive namespace from numpy and matplotlib\n"
     ]
    }
   ],
   "source": [
    "%pylab inline\n",
    "\n",
    "from urllib.request import urlopen\n",
    "import requests\n",
    "from bs4 import BeautifulSoup\n",
    "import pandas as pd\n",
    "from datetime import datetime\n",
    "from datetime import timedelta\n",
    "\n",
    "from dateutil.parser import parse"
   ]
  },
  {
   "cell_type": "code",
   "execution_count": 2,
   "metadata": {},
   "outputs": [
    {
     "data": {
      "text/plain": [
       "datetime.datetime(1992, 9, 24, 0, 0)"
      ]
     },
     "execution_count": 2,
     "metadata": {},
     "output_type": "execute_result"
    }
   ],
   "source": [
    "parse('24th sept  1992')"
   ]
  },
  {
   "cell_type": "code",
   "execution_count": 3,
   "metadata": {
    "jupyter": {
     "source_hidden": true
    }
   },
   "outputs": [],
   "source": [
    "import requests\n",
    "import pandas as pd\n",
    "from bs4 import BeautifulSoup\n",
    "\n",
    "class HTMLTableParser:\n",
    "\n",
    "    def parse_url(self, url):\n",
    "        response = requests.get(url)\n",
    "        soup = BeautifulSoup(response.text, 'lxml')\n",
    "        return [(table['id'],self.parse_html_table(table))\\\n",
    "                for table in soup.find_all('table')]  \n",
    "\n",
    "    def parse_html_table(self, table):\n",
    "        n_columns = 0\n",
    "        n_rows=0\n",
    "        column_names = []\n",
    "\n",
    "        # Find number of rows and columns\n",
    "        # we also find the column titles if we can\n",
    "        for row in table.find_all('tr'):\n",
    "\n",
    "            # Determine the number of rows in the table\n",
    "            td_tags = row.find_all('td')\n",
    "            if len(td_tags) > 0:\n",
    "                n_rows+=1\n",
    "                if n_columns == 0:\n",
    "                    # Set the number of columns for our table\n",
    "                    n_columns = len(td_tags)\n",
    "\n",
    "            # Handle column names if we find them\n",
    "            th_tags = row.find_all('th') \n",
    "            if len(th_tags) > 0 and len(column_names) == 0:\n",
    "                for th in th_tags:\n",
    "                    column_names.append(th.get_text())\n",
    "\n",
    "        # Safeguard on Column Titles\n",
    "        if len(column_names) > 0 and len(column_names) != n_columns:\n",
    "            raise Exception(\"Column titles do not match the number of columns\")\n",
    "\n",
    "        columns = column_names if len(column_names) > 0 else range(0,n_columns)\n",
    "        df = pd.DataFrame(columns = columns,\n",
    "                          index= range(0,n_rows))\n",
    "        row_marker = 0\n",
    "        for row in table.find_all('tr'):\n",
    "            column_marker = 0\n",
    "            columns = row.find_all('td')\n",
    "            for column in columns:\n",
    "                df.iat[row_marker,column_marker] = column.get_text()\n",
    "                column_marker += 1\n",
    "            if len(columns) > 0:\n",
    "                row_marker += 1\n",
    "\n",
    "        # Convert to float if possible\n",
    "        for col in df:\n",
    "            try:\n",
    "                df[col] = df[col].astype(float)\n",
    "            except ValueError:\n",
    "                pass\n",
    "\n",
    "        return df"
   ]
  },
  {
   "cell_type": "code",
   "execution_count": null,
   "metadata": {
    "jupyter": {
     "source_hidden": true
    }
   },
   "outputs": [],
   "source": [
    "\n",
    "    "
   ]
  },
  {
   "cell_type": "code",
   "execution_count": 46,
   "metadata": {},
   "outputs": [],
   "source": [
    "def get_temperature(fromMonth, fromDay, fromYear, toMonth, toDay, toYear, station):    \n",
    "    target_url = f\"http://www.georgiaweather.net/index.php?variable=HI&site={station}\"\n",
    "\n",
    "    html = requests.post(target_url, data=[('fromMonth',fromMonth),\n",
    "                                                ('fromDay',fromDay),\n",
    "                                                ('fromYear', fromYear),\n",
    "                                                ('toMonth', toMonth),\n",
    "                                                ('toDay', toDay),\n",
    "                                                ('toYear', toYear)\n",
    "                                               ]).text\n",
    "\n",
    "    soup = BeautifulSoup(html)\n",
    "    res = soup.find_all('table')[1].select('table align tr')\n",
    "\n",
    "    table_ll = [[i.text for i in tr.find_all('td')] for tr in res]\n",
    "    cols = table_ll[0]\n",
    "    rows = table_ll[1:]\n",
    "\n",
    "    df = pd.DataFrame.from_records(rows, columns=cols)\n",
    "\n",
    "    #Processing\n",
    "    df['Max Temperature[&degF]'] = df['Max Temperature[&degF]'].apply(lambda x : float(x))\n",
    "    df['Min Temperature[&degF]'] = df['Min Temperature[&degF]'].apply(lambda x : float(x))\n",
    "    df['Rain (in)'] = df['Rain (in)'].apply(lambda x : float(x))\n",
    "\n",
    "    #Date processing\n",
    "    datelist = df['Date']\n",
    "    date_result_list = []\n",
    "    for idx, datestring in enumerate(datelist):\n",
    "        date_time = datetime.strptime(datelist[0] + f' {fromYear}', '%b %d %Y') + timedelta(idx)\n",
    "        date_result_list.append(date_time)\n",
    "    df['Date'] = pd.Series(date_result_list)\n",
    "    df = df.set_index('Date', drop=True)\n",
    "    \n",
    "    return df\n",
    "\n",
    "df = get_temperature('August', 1, 2018, 'August', 30, 2019, 'WATUGA')"
   ]
  },
  {
   "cell_type": "code",
   "execution_count": 97,
   "metadata": {},
   "outputs": [
    {
     "name": "stdout",
     "output_type": "stream",
     "text": [
      "           mean        std\n",
      "Date                      \n",
      "1     44.327419  10.463538\n",
      "2     52.690000   9.028156\n",
      "3     55.381720   9.446591\n",
      "4     61.991111   7.254656\n",
      "5     70.625806   5.652311\n",
      "6     77.612778   3.485303\n",
      "7     80.110753   2.285503\n",
      "8     78.833333   2.960100\n",
      "9     76.033889   4.853811\n",
      "10    65.422581   8.391674\n",
      "11    53.137222   8.034541\n",
      "12    46.340860   7.591117\n"
     ]
    }
   ],
   "source": [
    "dfs = []\n",
    "\n",
    "for fromYear in [2016, 2017, 2018]:\n",
    "    dfs.append(get_temperature('January', 1, fromYear, 'December', 31, fromYear, 'WATUGA'))\n",
    "\n",
    "# 1. merge 3 DataFrames into one\n",
    "data = pd.concat(dfs)\n",
    "data['T_Avg'] = (data['Max Temperature[&degF]']+data['Min Temperature[&degF]'])/2\n",
    "\n",
    "# 2. aggregate by month name and compute the mean and stdev.\n",
    "summary = data.groupby(data.index.month).describe()['T_Avg'][['mean', 'std']]\n",
    "\n",
    "\n",
    "# 3. form a DataFrame by concatenating the mean and stdev.\n",
    "print(summary)"
   ]
  },
  {
   "cell_type": "code",
   "execution_count": 100,
   "metadata": {},
   "outputs": [],
   "source": [
    "import numpy as np"
   ]
  },
  {
   "cell_type": "code",
   "execution_count": 104,
   "metadata": {},
   "outputs": [],
   "source": [
    "bins = [-np.inf,0,50,72,85,np.inf]\n",
    "labels = ['freezing', 'cold', 'temperate', 'hot', 'blazing']\n",
    "data['feels'] = pd.cut(data['T_Avg'], bins=bins, labels=labels)"
   ]
  },
  {
   "cell_type": "code",
   "execution_count": 109,
   "metadata": {},
   "outputs": [
    {
     "data": {
      "text/plain": [
       "<matplotlib.axes._subplots.AxesSubplot at 0x7f9691614240>"
      ]
     },
     "execution_count": 109,
     "metadata": {},
     "output_type": "execute_result"
    },
    {
     "data": {
      "image/png": "[encoded data removed]",
      "text/plain": [
       "<Figure size 432x288 with 1 Axes>"
      ]
     },
     "metadata": {
      "needs_background": "light"
     },
     "output_type": "display_data"
    }
   ],
   "source": [
    "data['T_Avg'].plot(kind='hist', bins=100)"
   ]
  },
  {
   "cell_type": "code",
   "execution_count": 112,
   "metadata": {},
   "outputs": [],
   "source": [
    "bins = [-1,0.098,0.3,2.0,np.inf]\n",
    "labels = ['light','moderate','heavy','violent']\n",
    "data['Intensity'] = pd.cut(data['Rain (in)'], bins = bins, labels = labels)"
   ]
  },
  {
   "cell_type": "code",
   "execution_count": 113,
   "metadata": {},
   "outputs": [
    {
     "data": {
      "text/html": [
       "<div>\n",
       "<style scoped>\n",
       "    .dataframe tbody tr th:only-of-type {\n",
       "        vertical-align: middle;\n",
       "    }\n",
       "\n",
       "    .dataframe tbody tr th {\n",
       "        vertical-align: top;\n",
       "    }\n",
       "\n",
       "    .dataframe thead th {\n",
       "        text-align: right;\n",
       "    }\n",
       "</style>\n",
       "<table border=\"1\" class=\"dataframe\">\n",
       "  <thead>\n",
       "    <tr style=\"text-align: right;\">\n",
       "      <th></th>\n",
       "      <th>Max Temperature[&amp;degF]</th>\n",
       "      <th>Min Temperature[&amp;degF]</th>\n",
       "      <th>Rain (in)</th>\n",
       "      <th>T_Avg</th>\n",
       "      <th>feels</th>\n",
       "      <th>Intensity</th>\n",
       "    </tr>\n",
       "    <tr>\n",
       "      <th>Date</th>\n",
       "      <th></th>\n",
       "      <th></th>\n",
       "      <th></th>\n",
       "      <th></th>\n",
       "      <th></th>\n",
       "      <th></th>\n",
       "    </tr>\n",
       "  </thead>\n",
       "  <tbody>\n",
       "    <tr>\n",
       "      <td>2017-06-16</td>\n",
       "      <td>85.9</td>\n",
       "      <td>67.2</td>\n",
       "      <td>0.00</td>\n",
       "      <td>76.55</td>\n",
       "      <td>hot</td>\n",
       "      <td>light</td>\n",
       "    </tr>\n",
       "    <tr>\n",
       "      <td>2016-10-17</td>\n",
       "      <td>83.6</td>\n",
       "      <td>55.0</td>\n",
       "      <td>0.00</td>\n",
       "      <td>69.30</td>\n",
       "      <td>temperate</td>\n",
       "      <td>light</td>\n",
       "    </tr>\n",
       "    <tr>\n",
       "      <td>2016-05-13</td>\n",
       "      <td>80.5</td>\n",
       "      <td>61.6</td>\n",
       "      <td>0.00</td>\n",
       "      <td>71.05</td>\n",
       "      <td>temperate</td>\n",
       "      <td>light</td>\n",
       "    </tr>\n",
       "    <tr>\n",
       "      <td>2016-06-11</td>\n",
       "      <td>94.7</td>\n",
       "      <td>65.7</td>\n",
       "      <td>0.00</td>\n",
       "      <td>80.20</td>\n",
       "      <td>hot</td>\n",
       "      <td>light</td>\n",
       "    </tr>\n",
       "    <tr>\n",
       "      <td>2018-01-03</td>\n",
       "      <td>38.4</td>\n",
       "      <td>23.1</td>\n",
       "      <td>0.00</td>\n",
       "      <td>30.75</td>\n",
       "      <td>cold</td>\n",
       "      <td>light</td>\n",
       "    </tr>\n",
       "    <tr>\n",
       "      <td>2016-06-14</td>\n",
       "      <td>94.2</td>\n",
       "      <td>72.1</td>\n",
       "      <td>1.16</td>\n",
       "      <td>83.15</td>\n",
       "      <td>hot</td>\n",
       "      <td>heavy</td>\n",
       "    </tr>\n",
       "    <tr>\n",
       "      <td>2018-07-05</td>\n",
       "      <td>88.3</td>\n",
       "      <td>72.5</td>\n",
       "      <td>0.00</td>\n",
       "      <td>80.40</td>\n",
       "      <td>hot</td>\n",
       "      <td>light</td>\n",
       "    </tr>\n",
       "    <tr>\n",
       "      <td>2017-12-29</td>\n",
       "      <td>53.3</td>\n",
       "      <td>30.9</td>\n",
       "      <td>0.00</td>\n",
       "      <td>42.10</td>\n",
       "      <td>cold</td>\n",
       "      <td>light</td>\n",
       "    </tr>\n",
       "    <tr>\n",
       "      <td>2018-10-31</td>\n",
       "      <td>75.9</td>\n",
       "      <td>45.2</td>\n",
       "      <td>0.00</td>\n",
       "      <td>60.55</td>\n",
       "      <td>temperate</td>\n",
       "      <td>light</td>\n",
       "    </tr>\n",
       "    <tr>\n",
       "      <td>2017-04-22</td>\n",
       "      <td>83.0</td>\n",
       "      <td>60.5</td>\n",
       "      <td>0.00</td>\n",
       "      <td>71.75</td>\n",
       "      <td>temperate</td>\n",
       "      <td>light</td>\n",
       "    </tr>\n",
       "  </tbody>\n",
       "</table>\n",
       "</div>"
      ],
      "text/plain": [
       "            Max Temperature[&degF]  Min Temperature[&degF]  Rain (in)  T_Avg  \\\n",
       "Date                                                                           \n",
       "2017-06-16                    85.9                    67.2       0.00  76.55   \n",
       "2016-10-17                    83.6                    55.0       0.00  69.30   \n",
       "2016-05-13                    80.5                    61.6       0.00  71.05   \n",
       "2016-06-11                    94.7                    65.7       0.00  80.20   \n",
       "2018-01-03                    38.4                    23.1       0.00  30.75   \n",
       "2016-06-14                    94.2                    72.1       1.16  83.15   \n",
       "2018-07-05                    88.3                    72.5       0.00  80.40   \n",
       "2017-12-29                    53.3                    30.9       0.00  42.10   \n",
       "2018-10-31                    75.9                    45.2       0.00  60.55   \n",
       "2017-04-22                    83.0                    60.5       0.00  71.75   \n",
       "\n",
       "                feels Intensity  \n",
       "Date                             \n",
       "2017-06-16        hot     light  \n",
       "2016-10-17  temperate     light  \n",
       "2016-05-13  temperate     light  \n",
       "2016-06-11        hot     light  \n",
       "2018-01-03       cold     light  \n",
       "2016-06-14        hot     heavy  \n",
       "2018-07-05        hot     light  \n",
       "2017-12-29       cold     light  \n",
       "2018-10-31  temperate     light  \n",
       "2017-04-22  temperate     light  "
      ]
     },
     "execution_count": 113,
     "metadata": {},
     "output_type": "execute_result"
    }
   ],
   "source": [
    "data.sample(10)"
   ]
  },
  {
   "cell_type": "code",
   "execution_count": null,
   "metadata": {},
   "outputs": [],
   "source": []
  }
 ],
 "metadata": {
  "kernelspec": {
   "display_name": "Python 3",
   "language": "python",
   "name": "python3"
  },
  "language_info": {
   "codemirror_mode": {
    "name": "ipython",
    "version": 3
   },
   "file_extension": ".py",
   "mimetype": "text/x-python",
   "name": "python",
   "nbconvert_exporter": "python",
   "pygments_lexer": "ipython3",
   "version": "3.6.7"
  }
 },
 "nbformat": 4,
 "nbformat_minor": 4
}
