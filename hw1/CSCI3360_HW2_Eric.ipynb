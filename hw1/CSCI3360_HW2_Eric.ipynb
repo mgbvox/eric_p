{
 "cells": [
  {
   "cell_type": "markdown",
   "metadata": {},
   "source": [
    "# HW 2: Web Scraping\n",
    "\n",
    "In this assignment, you will write python programs to scrape data from web pages. As we have seen in class, there are python packages that can help you achieve the goal:\n",
    "\n",
    "- [`requests`](http://docs.python-requests.org/en/master/api/)\n",
    "- [`urllib` ](https://docs.python.org/3/library/urllib.html)\n",
    "- [`BeatifulSoup`](https://www.crummy.com/software/BeautifulSoup/bs4/doc/)\n",
    "\n",
    "## Submission instruction\n",
    "- Due by 11:59pm on **Sep. 16th, 2019**\n",
    "- Complete this notebook and name it as \"*CSCI3360\\_HW2\\_{your first name}.ipynb*\".\n",
    "- Do **not** use any other 3rd party libraries unless you are asked to do so.\n",
    "- Do **not** _hardcode_ any data.\n",
    "- Feel free to modify function prototype (i.e., you can add additional input parameters or remove existing ones based on your needs)\n",
    "- Feel free to define your own functions if needed.\n",
    "\n",
    "Let's start by importing the required libraries."
   ]
  },
  {
   "cell_type": "code",
   "execution_count": 38,
   "metadata": {},
   "outputs": [],
   "source": [
    "!pip install --upgrade --quiet lxml\n",
    "\n",
    "%matplotlib inline\n",
    "\n",
    "from urllib.request import urlopen\n",
    "import requests\n",
    "from bs4 import BeautifulSoup\n",
    "import pandas as pd\n",
    "from datetime import datetime\n",
    "from datetime import timedelta"
   ]
  },
  {
   "cell_type": "markdown",
   "metadata": {},
   "source": [
    "## August Temperature in Watkinsville, GA\n",
    "\n",
    "As a warm-up, let's write a python program that extracts daily temperature data for August from a website. Your instructor says that\n",
    "\n",
    "> \"This summer seems to be **much hotter** than usual\".\n",
    "\n",
    "In order to make this claim, we will need to find and analyze some data that supports our claim. \n",
    "\n",
    "The _College of Argricultural & Environmental Science_ at UGA maintains a website that reports daily\n",
    "\n",
    "- min temperature (${}^\\circ$F),\n",
    "- max temperature (${}^\\circ$F), and\n",
    "- precipitation (in).\n",
    "\n",
    "See the picture below:\n",
    "\n",
    "<img src=\"http://cobweb.cs.uga.edu/~jwlee/teaching/csci3360/images/uga_weather.png\" />\n",
    "\n",
    "To visually check this website, open a web browser and enter the following URL (or just click it):\n",
    "\n",
    "[http://www.georgiaweather.net/index.php?variable=HI&site=WATUGA](http://www.georgiaweather.net/index.php?variable=HI&site=WATUGA).\n",
    "\n",
    "Carefully look at the url. You can see there's a question mark appended at the end of url for an web page, http://georgiaweather.net/index.php, followed by a set of **key/value pairs** separated by the ampersand (\"&\") symbol. This is called a <font color='red'>**query string**</font>. A query string is the portion of a URL that contains the data your web browser sends to a web application in the form of HTTP **GET** request. Try selecting a different weather station using the dropdown list in the 'Weather Stations' pane on the left hand side of the page. As soon as you choose a different station, you will see the page is reloaded with a new url where `site` variable contains the abbreviated name of the station you chose. For example, in the above picture, the last key/value pair \"site=WATUGA\" has been added to select a weather station in Watkinsville, GA, among many stations they have across Georgia.\n",
    "\n",
    "- The start of query string is indicated with the question mark (?).\n",
    "- The query string contains a (set of) key/value pair.\n",
    "- The key/value pair has the form of `{parameter name}={parameter value}`.\n",
    "- Each key/value pair is separated by an ampersand (&) symbol.\n",
    "\n",
    "Unlike HTTP [GET](https://en.wikipedia.org/wiki/Hypertext_Transfer_Protocol#Request_methods) method (which uses the url to send information to the server), the [POST](https://en.wikipedia.org/wiki/POST_(HTTP)) method embeds the information inside the HTTP request body.\n",
    "\n",
    "In this part, we will compare the August temperatures in Watkinsville, GA, for 2019 with those for 2018. For your information, the site allows you to query the temperature data for maximum one year.\n",
    "\n",
    "### Q1. Write a function that extracts daily min/max temperatures for the given period and station (30 pts).\n",
    "- Before writing a code, visit this [page](http://www.georgiaweather.net/index.php?variable=HI&site=WATUSDA) and review the lecture slides on how to make GET and POST [requests](https://2.python-requests.org/en/master/user/quickstart/#make-a-request) in python.\n",
    "- You will see that the information we need can be obtained by setting the From and To dates to Aug. 1, 2018 and Aug. 30, 2019 from the dropdown lists, respectively.\n",
    "- We will programatically choose the From and To dates by sending using HTTP GET and POST methods.\n",
    "- To see what type/format of values are accepted, you will need to see the html source code of page.\n",
    "- To get the historical temperature data for a station, you need to pass two variables, `HI` and `site`, to the server using the URL.\n",
    "- You will see that the query result is returned in the form of HTML tables.\n"
   ]
  },
  {
   "cell_type": "code",
   "execution_count": 1,
   "metadata": {},
   "outputs": [],
   "source": [
    "#Credit: https://srome.github.io/Parsing-HTML-Tables-in-Python-with-BeautifulSoup-and-pandas/\n",
    "\n",
    "import requests\n",
    "import pandas as pd\n",
    "from bs4 import BeautifulSoup\n",
    "\n",
    "class HTMLTableParser:\n",
    "\n",
    "    def parse_url(self, url):\n",
    "        response = requests.get(url)\n",
    "        soup = BeautifulSoup(response.text, 'lxml')\n",
    "        return [(table['id'],self.parse_html_table(table))\\\n",
    "                for table in soup.find_all('table')]  \n",
    "\n",
    "    def parse_html_table(self, table):\n",
    "        n_columns = 0\n",
    "        n_rows=0\n",
    "        column_names = []\n",
    "\n",
    "        # Find number of rows and columns\n",
    "        # we also find the column titles if we can\n",
    "        for row in table.find_all('tr'):\n",
    "\n",
    "            # Determine the number of rows in the table\n",
    "            td_tags = row.find_all('td')\n",
    "            if len(td_tags) > 0:\n",
    "                n_rows+=1\n",
    "                if n_columns == 0:\n",
    "                    # Set the number of columns for our table\n",
    "                    n_columns = len(td_tags)\n",
    "\n",
    "            # Handle column names if we find them\n",
    "            th_tags = row.find_all('th') \n",
    "            if len(th_tags) > 0 and len(column_names) == 0:\n",
    "                for th in th_tags:\n",
    "                    column_names.append(th.get_text())\n",
    "\n",
    "        # Safeguard on Column Titles\n",
    "        if len(column_names) > 0 and len(column_names) != n_columns:\n",
    "            raise Exception(\"Column titles do not match the number of columns\")\n",
    "\n",
    "        columns = column_names if len(column_names) > 0 else range(0,n_columns)\n",
    "        df = pd.DataFrame(columns = columns,\n",
    "                          index= range(0,n_rows))\n",
    "        row_marker = 0\n",
    "        for row in table.find_all('tr'):\n",
    "            column_marker = 0\n",
    "            columns = row.find_all('td')\n",
    "            for column in columns:\n",
    "                df.iat[row_marker,column_marker] = column.get_text()\n",
    "                column_marker += 1\n",
    "            if len(columns) > 0:\n",
    "                row_marker += 1\n",
    "\n",
    "        # Convert to float if possible\n",
    "        for col in df:\n",
    "            try:\n",
    "                df[col] = df[col].astype(float)\n",
    "            except ValueError:\n",
    "                pass\n",
    "\n",
    "        return df"
   ]
  },
  {
   "cell_type": "code",
   "execution_count": 83,
   "metadata": {},
   "outputs": [
    {
     "name": "stdout",
     "output_type": "stream",
     "text": [
      "mydata contains 396 rows and 4 columns.\n",
      "\n",
      "\n",
      "<class 'pandas.core.frame.DataFrame'>\n",
      "RangeIndex: 396 entries, 0 to 395\n",
      "Data columns (total 4 columns):\n",
      "Date                      396 non-null object\n",
      "Max Temperature[&degF]    396 non-null float64\n",
      "Min Temperature[&degF]    396 non-null float64\n",
      "Rain (in)                 396 non-null float64\n",
      "dtypes: float64(3), object(1)\n",
      "memory usage: 12.5+ KB\n",
      "None\n"
     ]
    }
   ],
   "source": [
    "def get_temperature(fromMonth, fromDay, fromYear, toMonth, toDay, toYear, station):\n",
    "    \"\"\"\n",
    "    Parameters\n",
    "    ------------\n",
    "    fromMonth: string, month name (e.g., January, February, and so on)\n",
    "    fromDay: an integer between 1 and 31\n",
    "    fromYear: an integer between 1996 and 2019\n",
    "    toMonth: string, month name\n",
    "    toDay: an intesger between 1 and 31\n",
    "    toYear: an integer between 1996 and 2019\n",
    "    station: string, station name\n",
    "    \n",
    "    Return\n",
    "    ------------\n",
    "    df: DataFrame, each row contains 4 features: Date, MaxTemp, MinTemp, and Rain\n",
    "        - Date: datetime64\n",
    "        - MaxTemp: float64\n",
    "        - MinTemp: float64\n",
    "        - Rain: float64\n",
    "    \"\"\"\n",
    "    \n",
    "    #------------------------------------#\n",
    "    target_url = f\"http://www.georgiaweather.net/index.php?variable=HI&site={station}\"\n",
    "\n",
    "    html = requests.post(target_url, data=[\n",
    "        ('fromMonth', fromMonth),\n",
    "        ('fromDay', fromDay),\n",
    "        ('fromYear', fromYear),\n",
    "        ('toMonth', toMonth),\n",
    "        ('toDay', toDay),\n",
    "        ('toYear', toYear)\n",
    "    ]).text\n",
    "\n",
    "    soup = BeautifulSoup(html)\n",
    "    table_parser = HTMLTableParser()\n",
    "\n",
    "    res = table_parser.parse_html_table(soup.find_all('table')[1]).iloc[6:,:4]\n",
    "    res.columns = res.iloc[0]\n",
    "    res = res.drop(6).reset_index(drop=True)\n",
    "    \n",
    "    res['Max Temperature[&degF]'] = res['Max Temperature[&degF]'].apply(lambda x: float(x))\n",
    "    res['Min Temperature[&degF]'] = res['Min Temperature[&degF]'].apply(lambda x: float(x))\n",
    "    res['Rain (in)'] = res['Rain (in)'].apply(lambda x: float(x))\n",
    "    \n",
    "    #------------------------------------#\n",
    "\n",
    "    return res\n",
    "\n",
    "#---------------------------------------#\n",
    "#       test code (do not modify)       #\n",
    "#---------------------------------------#\n",
    "\"\"\"\n",
    "Note that your code will be tested with arbitrary From/To dates. Please \n",
    "make sure you try other (valid) input parameter values.\n",
    "For example, get_temperature('December', 1, 2018, 'January', 2, 2019, 'WATUGA') should work \n",
    "without any errors.\n",
    "\"\"\"\n",
    "# This should return a data frame containing all records for WATUGA site within the time window 08/01/2018 - 08/31/2019\n",
    "mydata = get_temperature('August', 1, 2018, 'August', 31, 2019, 'WATUGA')\n",
    "print('mydata contains {} rows and {} columns.\\n\\n'.format(*mydata.shape))\n",
    "print(mydata.info())"
   ]
  },
  {
   "cell_type": "code",
   "execution_count": 84,
   "metadata": {},
   "outputs": [
    {
     "data": {
      "text/html": [
       "<div>\n",
       "<style scoped>\n",
       "    .dataframe tbody tr th:only-of-type {\n",
       "        vertical-align: middle;\n",
       "    }\n",
       "\n",
       "    .dataframe tbody tr th {\n",
       "        vertical-align: top;\n",
       "    }\n",
       "\n",
       "    .dataframe thead th {\n",
       "        text-align: right;\n",
       "    }\n",
       "</style>\n",
       "<table border=\"1\" class=\"dataframe\">\n",
       "  <thead>\n",
       "    <tr style=\"text-align: right;\">\n",
       "      <th>6</th>\n",
       "      <th>Date</th>\n",
       "      <th>Max Temperature[&amp;degF]</th>\n",
       "      <th>Min Temperature[&amp;degF]</th>\n",
       "      <th>Rain (in)</th>\n",
       "    </tr>\n",
       "  </thead>\n",
       "  <tbody>\n",
       "    <tr>\n",
       "      <td>0</td>\n",
       "      <td>Aug 01</td>\n",
       "      <td>78.9</td>\n",
       "      <td>69.2</td>\n",
       "      <td>1.33</td>\n",
       "    </tr>\n",
       "    <tr>\n",
       "      <td>1</td>\n",
       "      <td>Aug 02</td>\n",
       "      <td>73.6</td>\n",
       "      <td>69.9</td>\n",
       "      <td>0.86</td>\n",
       "    </tr>\n",
       "    <tr>\n",
       "      <td>2</td>\n",
       "      <td>Aug 03</td>\n",
       "      <td>85.7</td>\n",
       "      <td>70.3</td>\n",
       "      <td>0.81</td>\n",
       "    </tr>\n",
       "    <tr>\n",
       "      <td>3</td>\n",
       "      <td>Aug 04</td>\n",
       "      <td>88.6</td>\n",
       "      <td>69.1</td>\n",
       "      <td>0.00</td>\n",
       "    </tr>\n",
       "    <tr>\n",
       "      <td>4</td>\n",
       "      <td>Aug 05</td>\n",
       "      <td>91.6</td>\n",
       "      <td>70.7</td>\n",
       "      <td>0.33</td>\n",
       "    </tr>\n",
       "  </tbody>\n",
       "</table>\n",
       "</div>"
      ],
      "text/plain": [
       "6    Date  Max Temperature[&degF]  Min Temperature[&degF]  Rain (in)\n",
       "0  Aug 01                    78.9                    69.2       1.33\n",
       "1  Aug 02                    73.6                    69.9       0.86\n",
       "2  Aug 03                    85.7                    70.3       0.81\n",
       "3  Aug 04                    88.6                    69.1       0.00\n",
       "4  Aug 05                    91.6                    70.7       0.33"
      ]
     },
     "execution_count": 84,
     "metadata": {},
     "output_type": "execute_result"
    }
   ],
   "source": [
    "mydata.head()"
   ]
  },
  {
   "cell_type": "markdown",
   "metadata": {},
   "source": [
    "### Hint 1: Identify the following lines from the page source code. \n",
    "\n",
    "```HTML\n",
    "<form name = \"test\" action = \"index.php?variable=HI&site=WATUGA\" method = \"POST\">\n",
    "\t<!--Beginning of From Month drop down menu -->\n",
    "\tFrom: \n",
    "\t\t\t<select name=\"fromMonth\"><option value = January>January</option><option value = February>February</option><option value = March>March</option><option value = April>April</option><option value = May>May</option><option value = June>June</option><option value = July>July</option><option value = August>August</option><option value = September>September</option><option value = October>October</option>\n",
    "```\n",
    "The `action` attribute of `form` tag specifies the url of the page to which the form data is submitted. From above, we can see that it is submitted to [http://www.georgiaweather.net/index.php?variable=HI&site=WATUGA](http://www.georgiaweather.net/index.php?variable=HI&site=WATUGA).\n",
    "To select the date, you need to send the following data to the server using an HTTP **POST** request.\n",
    "- `fromMonth`\n",
    "- `fromDay`\n",
    "- `fromYear`\n",
    "- `toMonth`\n",
    "- `toDay`\n",
    "- `toYear`\n",
    "\n",
    "Once you pass the above information, the server will return an HTML table showing the daily temperatures for the specified time period. You can parse the table using the `BeautifulSoup` package.\n",
    "\n",
    "### Hint 2: Datetime in python\n",
    "Python has a built-in module for handling basic date and time types. The `datetime` package provides various classes and useful functions for handling dates and times. To parse a date string into a `datetime` object, you can use `datetime.datetime.strptime()` function. See [here](https://docs.python.org/3/library/datetime.html#datetime.datetime.strptime) for detailed information. Suppose you would like to convert the string `\"2019/09/09\"` into a `datetime` object. You can do the following:"
   ]
  },
  {
   "cell_type": "code",
   "execution_count": 51,
   "metadata": {},
   "outputs": [
    {
     "name": "stdout",
     "output_type": "stream",
     "text": [
      "2019-09-09 00:00:00  \tdata type= <class 'datetime.datetime'>\n"
     ]
    }
   ],
   "source": [
    "my_date_obj = datetime.strptime(\"2019/09/09\", '%Y/%m/%d')\n",
    "print(my_date_obj, \" \\tdata type=\", type(my_date_obj))"
   ]
  },
  {
   "cell_type": "markdown",
   "metadata": {},
   "source": [
    "To understand what arguments you need to pass, see the table in this [page](https://docs.python.org/3.7/library/datetime.html#strftime-strptime-behavior). \n",
    "\n",
    "One problem we have is that our 'Date' field doesn't contain year information. For instance, Aug. 01, Aug. 02, and so on. However, we can figure out the year part since we know\n",
    "- the start date of the query result (recall that we have fromYear, fromMonth, fromDay),\n",
    "- the result is sorted by the 'Date' field, and\n",
    "- each row corresponds to a day.\n",
    "\n",
    "You can create a `datetime` object corresponding to the start date of query result and 1 day to the object whenever you insert a new record. To add dates or times to a `datetime` object, you can use `datetime.timedelta` object. For example,\n"
   ]
  },
  {
   "cell_type": "code",
   "execution_count": 42,
   "metadata": {},
   "outputs": [
    {
     "name": "stdout",
     "output_type": "stream",
     "text": [
      "Current datetime: {} 2019-09-08 16:04:52.891683\n",
      "Datetime in 5 miniutes: 2019-09-08 16:09:52.891683\n"
     ]
    }
   ],
   "source": [
    "now = datetime.now()\n",
    "\n",
    "print(\"Current datetime: {}\", now)\n",
    "print(\"Datetime in 5 miniutes: {}\".format(now + timedelta(minutes=5)))"
   ]
  },
  {
   "cell_type": "markdown",
   "metadata": {},
   "source": [
    "You can find more detailed information and examples from [here](https://docs.python.org/3/library/datetime.html#timedelta-objects). Feel free to suggest and use your own solution if you think there's a better way to handle the missing year information."
   ]
  },
  {
   "cell_type": "markdown",
   "metadata": {},
   "source": [
    "### Q2. Using the retrieved data (i.e., mydata variable), write the python codes that answer the following questions.\n",
    "1. (5 pts) Which date did record the highest temperature? (Hint: see the member functions of `Pandas.Series` [here](https://pandas.pydata.org/pandas-docs/stable/reference/api/pandas.Series.html).)"
   ]
  },
  {
   "cell_type": "code",
   "execution_count": 40,
   "metadata": {},
   "outputs": [
    {
     "data": {
      "text/plain": [
       "Index(['Date', 'Max Temperature[&degF]', 'Min Temperature[&degF]',\n",
       "       'Rain (in)'],\n",
       "      dtype='object', name=6)"
      ]
     },
     "execution_count": 40,
     "metadata": {},
     "output_type": "execute_result"
    }
   ],
   "source": [
    "mydata.columns"
   ]
  },
  {
   "cell_type": "code",
   "execution_count": 52,
   "metadata": {},
   "outputs": [
    {
     "data": {
      "text/html": [
       "<div>\n",
       "<style scoped>\n",
       "    .dataframe tbody tr th:only-of-type {\n",
       "        vertical-align: middle;\n",
       "    }\n",
       "\n",
       "    .dataframe tbody tr th {\n",
       "        vertical-align: top;\n",
       "    }\n",
       "\n",
       "    .dataframe thead th {\n",
       "        text-align: right;\n",
       "    }\n",
       "</style>\n",
       "<table border=\"1\" class=\"dataframe\">\n",
       "  <thead>\n",
       "    <tr style=\"text-align: right;\">\n",
       "      <th>6</th>\n",
       "      <th>Date</th>\n",
       "      <th>Max Temperature[&amp;degF]</th>\n",
       "      <th>Min Temperature[&amp;degF]</th>\n",
       "      <th>Rain (in)</th>\n",
       "    </tr>\n",
       "  </thead>\n",
       "  <tbody>\n",
       "    <tr>\n",
       "      <td>130</td>\n",
       "      <td>Dec 09</td>\n",
       "      <td>37.0</td>\n",
       "      <td>33.4</td>\n",
       "      <td>1.38</td>\n",
       "    </tr>\n",
       "    <tr>\n",
       "      <td>164</td>\n",
       "      <td>Jan 12</td>\n",
       "      <td>39.8</td>\n",
       "      <td>33.7</td>\n",
       "      <td>0.43</td>\n",
       "    </tr>\n",
       "    <tr>\n",
       "      <td>203</td>\n",
       "      <td>Feb 20</td>\n",
       "      <td>40.5</td>\n",
       "      <td>36.5</td>\n",
       "      <td>0.25</td>\n",
       "    </tr>\n",
       "    <tr>\n",
       "      <td>131</td>\n",
       "      <td>Dec 10</td>\n",
       "      <td>41.8</td>\n",
       "      <td>36.6</td>\n",
       "      <td>0.25</td>\n",
       "    </tr>\n",
       "    <tr>\n",
       "      <td>129</td>\n",
       "      <td>Dec 08</td>\n",
       "      <td>42.2</td>\n",
       "      <td>36.8</td>\n",
       "      <td>1.81</td>\n",
       "    </tr>\n",
       "    <tr>\n",
       "      <td>...</td>\n",
       "      <td>...</td>\n",
       "      <td>...</td>\n",
       "      <td>...</td>\n",
       "      <td>...</td>\n",
       "    </tr>\n",
       "    <tr>\n",
       "      <td>382</td>\n",
       "      <td>Aug 18</td>\n",
       "      <td>94.5</td>\n",
       "      <td>69.1</td>\n",
       "      <td>0.02</td>\n",
       "    </tr>\n",
       "    <tr>\n",
       "      <td>337</td>\n",
       "      <td>Jul 04</td>\n",
       "      <td>94.6</td>\n",
       "      <td>73.0</td>\n",
       "      <td>0.00</td>\n",
       "    </tr>\n",
       "    <tr>\n",
       "      <td>300</td>\n",
       "      <td>May 28</td>\n",
       "      <td>94.6</td>\n",
       "      <td>68.5</td>\n",
       "      <td>0.00</td>\n",
       "    </tr>\n",
       "    <tr>\n",
       "      <td>335</td>\n",
       "      <td>Jul 02</td>\n",
       "      <td>94.8</td>\n",
       "      <td>71.3</td>\n",
       "      <td>0.00</td>\n",
       "    </tr>\n",
       "    <tr>\n",
       "      <td>377</td>\n",
       "      <td>Aug 13</td>\n",
       "      <td>97.0</td>\n",
       "      <td>72.2</td>\n",
       "      <td>0.04</td>\n",
       "    </tr>\n",
       "  </tbody>\n",
       "</table>\n",
       "<p>396 rows × 4 columns</p>\n",
       "</div>"
      ],
      "text/plain": [
       "6      Date  Max Temperature[&degF]  Min Temperature[&degF]  Rain (in)\n",
       "130  Dec 09                    37.0                    33.4       1.38\n",
       "164  Jan 12                    39.8                    33.7       0.43\n",
       "203  Feb 20                    40.5                    36.5       0.25\n",
       "131  Dec 10                    41.8                    36.6       0.25\n",
       "129  Dec 08                    42.2                    36.8       1.81\n",
       "..      ...                     ...                     ...        ...\n",
       "382  Aug 18                    94.5                    69.1       0.02\n",
       "337  Jul 04                    94.6                    73.0       0.00\n",
       "300  May 28                    94.6                    68.5       0.00\n",
       "335  Jul 02                    94.8                    71.3       0.00\n",
       "377  Aug 13                    97.0                    72.2       0.04\n",
       "\n",
       "[396 rows x 4 columns]"
      ]
     },
     "execution_count": 52,
     "metadata": {},
     "output_type": "execute_result"
    }
   ],
   "source": [
    "#------------------------------#\n",
    "#   Write your answer here     #\n",
    "#------------------------------#\n",
    "\n",
    "mydata.sort_values('Max Temperature[&degF]')"
   ]
  },
  {
   "cell_type": "markdown",
   "metadata": {},
   "source": [
    "2. (10 pts) Add a new categorical column *\"Intensity\"* which defines categories of rainfall according to the precipitation.\n",
    "    - light: Rain < 0.098\n",
    "    - moderate: 0.098 <= Rain < 0.3\n",
    "    - heavy: 0.3 <= Rain < 2.0\n",
    "    - violent: Rain >= 2.0"
   ]
  },
  {
   "cell_type": "code",
   "execution_count": 91,
   "metadata": {},
   "outputs": [
    {
     "data": {
      "text/html": [
       "<div>\n",
       "<style scoped>\n",
       "    .dataframe tbody tr th:only-of-type {\n",
       "        vertical-align: middle;\n",
       "    }\n",
       "\n",
       "    .dataframe tbody tr th {\n",
       "        vertical-align: top;\n",
       "    }\n",
       "\n",
       "    .dataframe thead th {\n",
       "        text-align: right;\n",
       "    }\n",
       "</style>\n",
       "<table border=\"1\" class=\"dataframe\">\n",
       "  <thead>\n",
       "    <tr style=\"text-align: right;\">\n",
       "      <th>6</th>\n",
       "      <th>Date</th>\n",
       "      <th>Max Temperature[&amp;degF]</th>\n",
       "      <th>Min Temperature[&amp;degF]</th>\n",
       "      <th>Rain (in)</th>\n",
       "      <th>Rain Cat</th>\n",
       "    </tr>\n",
       "  </thead>\n",
       "  <tbody>\n",
       "    <tr>\n",
       "      <td>0</td>\n",
       "      <td>Aug 01</td>\n",
       "      <td>78.9</td>\n",
       "      <td>69.2</td>\n",
       "      <td>1.33</td>\n",
       "      <td>heavy</td>\n",
       "    </tr>\n",
       "    <tr>\n",
       "      <td>1</td>\n",
       "      <td>Aug 02</td>\n",
       "      <td>73.6</td>\n",
       "      <td>69.9</td>\n",
       "      <td>0.86</td>\n",
       "      <td>heavy</td>\n",
       "    </tr>\n",
       "    <tr>\n",
       "      <td>2</td>\n",
       "      <td>Aug 03</td>\n",
       "      <td>85.7</td>\n",
       "      <td>70.3</td>\n",
       "      <td>0.81</td>\n",
       "      <td>heavy</td>\n",
       "    </tr>\n",
       "    <tr>\n",
       "      <td>3</td>\n",
       "      <td>Aug 04</td>\n",
       "      <td>88.6</td>\n",
       "      <td>69.1</td>\n",
       "      <td>0.00</td>\n",
       "      <td>light</td>\n",
       "    </tr>\n",
       "    <tr>\n",
       "      <td>4</td>\n",
       "      <td>Aug 05</td>\n",
       "      <td>91.6</td>\n",
       "      <td>70.7</td>\n",
       "      <td>0.33</td>\n",
       "      <td>heavy</td>\n",
       "    </tr>\n",
       "  </tbody>\n",
       "</table>\n",
       "</div>"
      ],
      "text/plain": [
       "6    Date  Max Temperature[&degF]  Min Temperature[&degF]  Rain (in) Rain Cat\n",
       "0  Aug 01                    78.9                    69.2       1.33    heavy\n",
       "1  Aug 02                    73.6                    69.9       0.86    heavy\n",
       "2  Aug 03                    85.7                    70.3       0.81    heavy\n",
       "3  Aug 04                    88.6                    69.1       0.00    light\n",
       "4  Aug 05                    91.6                    70.7       0.33    heavy"
      ]
     },
     "execution_count": 91,
     "metadata": {},
     "output_type": "execute_result"
    }
   ],
   "source": [
    "#------------------------------#\n",
    "#   Write your answer here     #\n",
    "#------------------------------#\n",
    "bins = [-999,0.098,0.3,2.0,9999]\n",
    "labels = ['light','moderate','heavy', 'violent']\n",
    "mydata['Rain Cat'] = pd.cut(mydata['Rain (in)'], bins, labels=labels)\n",
    "\n",
    "mydata.head()"
   ]
  },
  {
   "cell_type": "markdown",
   "metadata": {},
   "source": [
    "3. (5 pts) For each rainfall category, counts the days. In other words, how many days of 'light'/'moderate'/'heavy'/'violent' rainfall did WATUGA have?"
   ]
  },
  {
   "cell_type": "code",
   "execution_count": 92,
   "metadata": {},
   "outputs": [
    {
     "data": {
      "text/plain": [
       "light       303\n",
       "heavy        55\n",
       "moderate     35\n",
       "violent       3\n",
       "Name: Rain Cat, dtype: int64"
      ]
     },
     "execution_count": 92,
     "metadata": {},
     "output_type": "execute_result"
    }
   ],
   "source": [
    "#------------------------------#\n",
    "#   Write your answer here     #\n",
    "#------------------------------#\n",
    "mydata['Rain Cat'].value_counts()\n",
    "\n",
    "\n"
   ]
  },
  {
   "cell_type": "markdown",
   "metadata": {},
   "source": [
    "4. (10 pts) Can we say on average we have more rain during the summer? Answer this question by reporting monthly average precipitation from Aug., 2018 to Jul., 2019. The answer should be **sorted** in descending order of average precipitation.\n",
    "    - Hint 1: use a `datetime.datetime` object for filtering\n",
    "    - Hint 2: to access datetime object in 'Date' series, you can use `Series.dt` (read its documentation [page](https://pandas.pydata.org/pandas-docs/stable/reference/series.html#datetimelike-properties))    \n",
    "    - Note that there are multiple ways to implment this; the above is just one of them."
   ]
  },
  {
   "cell_type": "code",
   "execution_count": 118,
   "metadata": {},
   "outputs": [
    {
     "ename": "AttributeError",
     "evalue": "'str' object has no attribute 'name'",
     "output_type": "error",
     "traceback": [
      "\u001b[0;31m---------------------------------------------------------------------------\u001b[0m",
      "\u001b[0;31mAttributeError\u001b[0m                            Traceback (most recent call last)",
      "\u001b[0;32m<ipython-input-118-590363a55710>\u001b[0m in \u001b[0;36m<module>\u001b[0;34m\u001b[0m\n\u001b[1;32m      3\u001b[0m \u001b[0mlast_date\u001b[0m \u001b[0;34m=\u001b[0m \u001b[0mparse\u001b[0m\u001b[0;34m(\u001b[0m\u001b[0mmydata\u001b[0m\u001b[0;34m[\u001b[0m\u001b[0;34m'Date'\u001b[0m\u001b[0;34m]\u001b[0m\u001b[0;34m.\u001b[0m\u001b[0mvalues\u001b[0m\u001b[0;34m[\u001b[0m\u001b[0;34m-\u001b[0m\u001b[0;36m1\u001b[0m\u001b[0;34m]\u001b[0m\u001b[0;34m)\u001b[0m\u001b[0;34m.\u001b[0m\u001b[0mreplace\u001b[0m\u001b[0;34m(\u001b[0m\u001b[0myear\u001b[0m\u001b[0;34m=\u001b[0m\u001b[0mtoYear\u001b[0m\u001b[0;34m)\u001b[0m\u001b[0;34m\u001b[0m\u001b[0;34m\u001b[0m\u001b[0m\n\u001b[1;32m      4\u001b[0m \u001b[0;34m\u001b[0m\u001b[0m\n\u001b[0;32m----> 5\u001b[0;31m \u001b[0mmydata\u001b[0m\u001b[0;34m[\u001b[0m\u001b[0;34m'Date'\u001b[0m\u001b[0;34m]\u001b[0m\u001b[0;34m.\u001b[0m\u001b[0mapply\u001b[0m\u001b[0;34m(\u001b[0m\u001b[0;32mlambda\u001b[0m \u001b[0mx\u001b[0m\u001b[0;34m:\u001b[0m \u001b[0mx\u001b[0m\u001b[0;34m.\u001b[0m\u001b[0mname\u001b[0m\u001b[0;34m)\u001b[0m\u001b[0;34m\u001b[0m\u001b[0;34m\u001b[0m\u001b[0m\n\u001b[0m",
      "\u001b[0;32m~/anaconda3/envs/keras/lib/python3.6/site-packages/pandas/core/series.py\u001b[0m in \u001b[0;36mapply\u001b[0;34m(self, func, convert_dtype, args, **kwds)\u001b[0m\n\u001b[1;32m   4040\u001b[0m             \u001b[0;32melse\u001b[0m\u001b[0;34m:\u001b[0m\u001b[0;34m\u001b[0m\u001b[0;34m\u001b[0m\u001b[0m\n\u001b[1;32m   4041\u001b[0m                 \u001b[0mvalues\u001b[0m \u001b[0;34m=\u001b[0m \u001b[0mself\u001b[0m\u001b[0;34m.\u001b[0m\u001b[0mastype\u001b[0m\u001b[0;34m(\u001b[0m\u001b[0mobject\u001b[0m\u001b[0;34m)\u001b[0m\u001b[0;34m.\u001b[0m\u001b[0mvalues\u001b[0m\u001b[0;34m\u001b[0m\u001b[0;34m\u001b[0m\u001b[0m\n\u001b[0;32m-> 4042\u001b[0;31m                 \u001b[0mmapped\u001b[0m \u001b[0;34m=\u001b[0m \u001b[0mlib\u001b[0m\u001b[0;34m.\u001b[0m\u001b[0mmap_infer\u001b[0m\u001b[0;34m(\u001b[0m\u001b[0mvalues\u001b[0m\u001b[0;34m,\u001b[0m \u001b[0mf\u001b[0m\u001b[0;34m,\u001b[0m \u001b[0mconvert\u001b[0m\u001b[0;34m=\u001b[0m\u001b[0mconvert_dtype\u001b[0m\u001b[0;34m)\u001b[0m\u001b[0;34m\u001b[0m\u001b[0;34m\u001b[0m\u001b[0m\n\u001b[0m\u001b[1;32m   4043\u001b[0m \u001b[0;34m\u001b[0m\u001b[0m\n\u001b[1;32m   4044\u001b[0m         \u001b[0;32mif\u001b[0m \u001b[0mlen\u001b[0m\u001b[0;34m(\u001b[0m\u001b[0mmapped\u001b[0m\u001b[0;34m)\u001b[0m \u001b[0;32mand\u001b[0m \u001b[0misinstance\u001b[0m\u001b[0;34m(\u001b[0m\u001b[0mmapped\u001b[0m\u001b[0;34m[\u001b[0m\u001b[0;36m0\u001b[0m\u001b[0;34m]\u001b[0m\u001b[0;34m,\u001b[0m \u001b[0mSeries\u001b[0m\u001b[0;34m)\u001b[0m\u001b[0;34m:\u001b[0m\u001b[0;34m\u001b[0m\u001b[0;34m\u001b[0m\u001b[0m\n",
      "\u001b[0;32mpandas/_libs/lib.pyx\u001b[0m in \u001b[0;36mpandas._libs.lib.map_infer\u001b[0;34m()\u001b[0m\n",
      "\u001b[0;32m<ipython-input-118-590363a55710>\u001b[0m in \u001b[0;36m<lambda>\u001b[0;34m(x)\u001b[0m\n\u001b[1;32m      3\u001b[0m \u001b[0mlast_date\u001b[0m \u001b[0;34m=\u001b[0m \u001b[0mparse\u001b[0m\u001b[0;34m(\u001b[0m\u001b[0mmydata\u001b[0m\u001b[0;34m[\u001b[0m\u001b[0;34m'Date'\u001b[0m\u001b[0;34m]\u001b[0m\u001b[0;34m.\u001b[0m\u001b[0mvalues\u001b[0m\u001b[0;34m[\u001b[0m\u001b[0;34m-\u001b[0m\u001b[0;36m1\u001b[0m\u001b[0;34m]\u001b[0m\u001b[0;34m)\u001b[0m\u001b[0;34m.\u001b[0m\u001b[0mreplace\u001b[0m\u001b[0;34m(\u001b[0m\u001b[0myear\u001b[0m\u001b[0;34m=\u001b[0m\u001b[0mtoYear\u001b[0m\u001b[0;34m)\u001b[0m\u001b[0;34m\u001b[0m\u001b[0;34m\u001b[0m\u001b[0m\n\u001b[1;32m      4\u001b[0m \u001b[0;34m\u001b[0m\u001b[0m\n\u001b[0;32m----> 5\u001b[0;31m \u001b[0mmydata\u001b[0m\u001b[0;34m[\u001b[0m\u001b[0;34m'Date'\u001b[0m\u001b[0;34m]\u001b[0m\u001b[0;34m.\u001b[0m\u001b[0mapply\u001b[0m\u001b[0;34m(\u001b[0m\u001b[0;32mlambda\u001b[0m \u001b[0mx\u001b[0m\u001b[0;34m:\u001b[0m \u001b[0mx\u001b[0m\u001b[0;34m.\u001b[0m\u001b[0mname\u001b[0m\u001b[0;34m)\u001b[0m\u001b[0;34m\u001b[0m\u001b[0;34m\u001b[0m\u001b[0m\n\u001b[0m",
      "\u001b[0;31mAttributeError\u001b[0m: 'str' object has no attribute 'name'"
     ]
    }
   ],
   "source": [
    "import datetime\n",
    "toYear = 2019\n",
    "last_date = parse(mydata['Date'].values[-1]).replace(year=toYear)\n",
    "n_days = len(mydata)\n",
    "mydata['Date'].apply(lambda x: x.name)\n"
   ]
  },
  {
   "cell_type": "code",
   "execution_count": 107,
   "metadata": {},
   "outputs": [
    {
     "data": {
      "text/plain": [
       "datetime.datetime(1990, 8, 31, 0, 0)"
      ]
     },
     "execution_count": 107,
     "metadata": {},
     "output_type": "execute_result"
    }
   ],
   "source": []
  },
  {
   "cell_type": "code",
   "execution_count": 94,
   "metadata": {},
   "outputs": [
    {
     "data": {
      "text/plain": [
       "0     2019-08-01\n",
       "1     2019-08-02\n",
       "2     2019-08-03\n",
       "3     2019-08-04\n",
       "4     2019-08-05\n",
       "         ...    \n",
       "391   2019-08-27\n",
       "392   2019-08-28\n",
       "393   2019-08-29\n",
       "394   2019-08-30\n",
       "395   2019-08-31\n",
       "Name: Date, Length: 396, dtype: datetime64[ns]"
      ]
     },
     "execution_count": 94,
     "metadata": {},
     "output_type": "execute_result"
    }
   ],
   "source": [
    "from dateutil.parser import parse\n",
    "\n",
    "\n",
    "mydata['Date'].apply(lambda x: parse(x))"
   ]
  },
  {
   "cell_type": "code",
   "execution_count": 67,
   "metadata": {},
   "outputs": [
    {
     "data": {
      "text/plain": [
       "Date\n",
       "December     0.329032\n",
       "June         0.233000\n",
       "November     0.195333\n",
       "January      0.194194\n",
       "October      0.165484\n",
       "February     0.141786\n",
       "August       0.135161\n",
       "April        0.127333\n",
       "May          0.102258\n",
       "March        0.080323\n",
       "July         0.056129\n",
       "September    0.054000\n",
       "Name: Rain, dtype: float64"
      ]
     },
     "execution_count": 67,
     "metadata": {},
     "output_type": "execute_result"
    }
   ],
   "source": [
    "#------------------------------#\n",
    "#   Write your answer here     #\n",
    "#------------------------------#\n",
    "\n",
    "\n",
    "\n",
    "\n"
   ]
  },
  {
   "cell_type": "markdown",
   "metadata": {},
   "source": [
    "5. (10 pts) For each month in [Aug. 2018 - Jul. 2019], counts the number of rainy days. \n",
    "    - A day is considered as a rainy day if 'Intensity' > light."
   ]
  },
  {
   "cell_type": "code",
   "execution_count": 91,
   "metadata": {},
   "outputs": [
    {
     "data": {
      "text/plain": [
       "Date\n",
       "April         6\n",
       "August        6\n",
       "December     11\n",
       "February     10\n",
       "January       8\n",
       "July          7\n",
       "June          7\n",
       "March         5\n",
       "May           4\n",
       "November     11\n",
       "October       5\n",
       "September     4\n",
       "Name: Intensity, dtype: int64"
      ]
     },
     "execution_count": 91,
     "metadata": {},
     "output_type": "execute_result"
    }
   ],
   "source": [
    "#------------------------------#\n",
    "#   Write your answer here     #\n",
    "#------------------------------#\n",
    "\n",
    "\n",
    "\n",
    "\n"
   ]
  },
  {
   "cell_type": "markdown",
   "metadata": {},
   "source": [
    "### Q3. Draw a line plot showing the trend of max August temperatures. It should contain two lines, one for MaxTemp for Aug. 2018 and the other for MaxTemp for Aug. 2019.\n",
    "1. (10 pts) First, select rows corresponding to Aug. 2018 and Aug. 2019 and store them into two different variables. Then construct a new `DataFrame` object by concatenating series. Your new `DataFrame` needs to contain 3 fields:\n",
    "    - Day,\n",
    "    - MaxTemp2018,\n",
    "    - MaxTemp2019.\n",
    "For this, you will need to use the following two functions:\n",
    "    - [`Series.rename()`](https://pandas.pydata.org/pandas-docs/stable/reference/api/pandas.Series.rename.html) to change the name of a series and\n",
    "    - [`Pandas.concat()`](https://pandas.pydata.org/pandas-docs/stable/reference/api/pandas.concat.html) to construct a new `DataFrame` by concatenating existing series. Notice that you need to concatenate the series horizontally. Carefully read the documentation to see which parameter you need to change."
   ]
  },
  {
   "cell_type": "code",
   "execution_count": 84,
   "metadata": {},
   "outputs": [
    {
     "name": "stdout",
     "output_type": "stream",
     "text": [
      "The new dataframe object contains 31 rows and 3 columns.\n",
      "\n",
      "\n",
      "<class 'pandas.core.frame.DataFrame'>\n",
      "RangeIndex: 31 entries, 0 to 30\n",
      "Data columns (total 3 columns):\n",
      "Day            31 non-null int64\n",
      "MaxTemp2018    31 non-null float64\n",
      "MaxTemp2019    31 non-null float64\n",
      "dtypes: float64(2), int64(1)\n",
      "memory usage: 824.0 bytes\n",
      "None\n"
     ]
    }
   ],
   "source": [
    "import matplotlib.pyplot as plt\n",
    "\n",
    "# use these variables if needed\n",
    "aug2018 = datetime(2018, 8, 1)\n",
    "sep2018 = datetime(2018, 9, 1)\n",
    "aug2019 = datetime(2019, 8, 1)\n",
    "sep2019 = datetime(2019, 9, 1)\n",
    "\n",
    "######################################\n",
    "#   Your code for the plot goes here #\n",
    "######################################\n",
    "\n",
    "\n",
    "\n",
    "\n",
    "               \n",
    "# test code (do not modify)\n",
    "print(\"The new dataframe object contains {} rows and {} columns.\\n\\n\".format(*df.shape))\n",
    "print(df.info())"
   ]
  },
  {
   "cell_type": "markdown",
   "metadata": {},
   "source": [
    "2. (5 pts) Draw a line plot that comparaes August temperateures for 2018 and 2019."
   ]
  },
  {
   "cell_type": "code",
   "execution_count": 85,
   "metadata": {},
   "outputs": [
    {
     "data": {
      "text/plain": [
       "<matplotlib.axes._subplots.AxesSubplot at 0x2aa8d339908>"
      ]
     },
     "execution_count": 85,
     "metadata": {},
     "output_type": "execute_result"
    },
    {
     "data": {
      "image/png": "[encoded data removed]",
      "text/plain": [
       "<Figure size 432x288 with 1 Axes>"
      ]
     },
     "metadata": {
      "needs_background": "light"
     },
     "output_type": "display_data"
    }
   ],
   "source": [
    "######################################\n",
    "#   Your code for the plot goes here #\n",
    "######################################\n",
    "\n"
   ]
  },
  {
   "cell_type": "markdown",
   "metadata": {},
   "source": [
    "### Q4. (15 pts) In this question, we will collect the temperature data for 2016, 2017, and 2018, and then aggregate them to compute the mean and standard deviation of monthly temperature. \n",
    "- The temperature for a day is given by taking the average of min and max temperatures for that day, i.e., $\\text{Temp} = \\frac{\\text{MinTemp} + \\text{MaxTemp}}{2}$.\n",
    "- To collect the data for 3 years, use the `get_temperature()` function you implemented in Q1.\n",
    "- To concatenate them into a single DataFrame, use `pandas.concat()` function.\n",
    "- Fix `site=WATUGA`"
   ]
  },
  {
   "cell_type": "code",
   "execution_count": 101,
   "metadata": {},
   "outputs": [
    {
     "name": "stdout",
     "output_type": "stream",
     "text": [
      "            MeanTemp  StdevTemp\n",
      "Date                           \n",
      "April      61.991111   7.254656\n",
      "August     78.833333   2.960100\n",
      "December   46.340860   7.591117\n",
      "February   52.690000   9.028156\n",
      "January    44.327419  10.463538\n",
      "July       80.110753   2.285503\n",
      "June       77.612778   3.485303\n",
      "March      55.381720   9.446591\n",
      "May        70.625806   5.652311\n",
      "November   53.137222   8.034541\n",
      "October    65.422581   8.391674\n",
      "September  76.033889   4.853811\n"
     ]
    }
   ],
   "source": [
    "#------------------------------#\n",
    "#   Write your answer here     #\n",
    "#------------------------------#\n",
    "dfs = []\n",
    "\n",
    "for fromYear in [2016, 2017, 2018]:\n",
    "    dfs.append(get_temperature('January', 1, fromYear, 'December', 31, fromYear, 'WATUGA'))\n",
    "\n",
    "# 1. merge 3 DataFrames into one\n",
    "\n",
    "\n",
    "# 2. aggregate by month name and compute the mean and stdev.\n",
    "\n",
    "\n",
    "\n",
    "# 3. form a DataFrame by concatenating the mean and stdev.\n",
    "print(ret)"
   ]
  }
 ],
 "metadata": {
  "anaconda-cloud": {},
  "kernelspec": {
   "display_name": "Python 3",
   "language": "python",
   "name": "python3"
  },
  "language_info": {
   "codemirror_mode": {
    "name": "ipython",
    "version": 3
   },
   "file_extension": ".py",
   "mimetype": "text/x-python",
   "name": "python",
   "nbconvert_exporter": "python",
   "pygments_lexer": "ipython3",
   "version": "3.6.7"
  }
 },
 "nbformat": 4,
 "nbformat_minor": 4
}
