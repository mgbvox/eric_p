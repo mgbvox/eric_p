{
 "cells": [
  {
   "cell_type": "code",
   "execution_count": 1,
   "metadata": {},
   "outputs": [
    {
     "name": "stdout",
     "output_type": "stream",
     "text": [
      "Populating the interactive namespace from numpy and matplotlib\n"
     ]
    }
   ],
   "source": [
    "%pylab inline\n",
    "from board_utils import *"
   ]
  },
  {
   "cell_type": "code",
   "execution_count": 4,
   "metadata": {},
   "outputs": [
    {
     "data": {
      "text/plain": [
       "array([[2, 7, 6],\n",
       "       [1, 8, 0],\n",
       "       [5, 3, 4]])"
      ]
     },
     "execution_count": 4,
     "metadata": {},
     "output_type": "execute_result"
    }
   ],
   "source": [
    "gen_board(3,3)"
   ]
  },
  {
   "cell_type": "code",
   "execution_count": 6,
   "metadata": {},
   "outputs": [
    {
     "data": {
      "text/plain": [
       "array([[0, 8, 1],\n",
       "       [6, 7, 3],\n",
       "       [2, 4, 5]])"
      ]
     },
     "execution_count": 6,
     "metadata": {},
     "output_type": "execute_result"
    }
   ],
   "source": [
    "target = np.array([[1,2,3],[8,0,4],[7,6,5]])\n",
    "\n",
    "board = gen_board(3,3)\n",
    "board"
   ]
  },
  {
   "cell_type": "code",
   "execution_count": 12,
   "metadata": {},
   "outputs": [
    {
     "data": {
      "text/plain": [
       "array([[1, 2, 3],\n",
       "       [8, 0, 4],\n",
       "       [7, 6, 5]])"
      ]
     },
     "execution_count": 12,
     "metadata": {},
     "output_type": "execute_result"
    }
   ],
   "source": [
    "target"
   ]
  },
  {
   "cell_type": "code",
   "execution_count": 9,
   "metadata": {},
   "outputs": [],
   "source": [
    "def within_range(i,j):\n",
    "    return (i>-1 and i < 3 and j > -1 and j < 3)\n",
    "\n",
    "def valid_neighbor(i,j, zero_x, zero_y):\n",
    "    return (within_range(i,j) and (i!=zero_x and j!=zero_y))"
   ]
  },
  {
   "cell_type": "code",
   "execution_count": 28,
   "metadata": {},
   "outputs": [
    {
     "data": {
      "text/plain": [
       "array([[1, 2, 3],\n",
       "       [8, 0, 4],\n",
       "       [7, 6, 5]])"
      ]
     },
     "execution_count": 28,
     "metadata": {},
     "output_type": "execute_result"
    }
   ],
   "source": [
    "target"
   ]
  },
  {
   "cell_type": "code",
   "execution_count": 29,
   "metadata": {},
   "outputs": [
    {
     "data": {
      "text/plain": [
       "array([[4, 3, 5],\n",
       "       [0, 1, 7],\n",
       "       [6, 2, 8]])"
      ]
     },
     "execution_count": 29,
     "metadata": {},
     "output_type": "execute_result"
    }
   ],
   "source": [
    "board"
   ]
  },
  {
   "cell_type": "code",
   "execution_count": 7,
   "metadata": {},
   "outputs": [],
   "source": [
    "#Heueristic:\n",
    "def manhattan(b,t):\n",
    "    distance = 0\n",
    "    for item in board.ravel():\n",
    "        if item != 0:\n",
    "            board_x, board_y = np.where(board == item)\n",
    "            target_x, target_y = np.where(target == item)\n",
    "\n",
    "            delta = abs(board_x - target_x) + abs(board_y - target_y)\n",
    "            distance += delta\n",
    "\n",
    "    return distance\n",
    "\n",
    "#Path Generator:\n"
   ]
  },
  {
   "cell_type": "code",
   "execution_count": 8,
   "metadata": {},
   "outputs": [
    {
     "data": {
      "text/plain": [
       "array([14])"
      ]
     },
     "execution_count": 8,
     "metadata": {},
     "output_type": "execute_result"
    }
   ],
   "source": [
    "manhattan(board, target)"
   ]
  },
  {
   "cell_type": "code",
   "execution_count": 58,
   "metadata": {},
   "outputs": [
    {
     "data": {
      "text/plain": [
       "array([[4, 3, 5],\n",
       "       [0, 1, 7],\n",
       "       [6, 2, 8]])"
      ]
     },
     "execution_count": 58,
     "metadata": {},
     "output_type": "execute_result"
    }
   ],
   "source": [
    "board"
   ]
  },
  {
   "cell_type": "code",
   "execution_count": 56,
   "metadata": {},
   "outputs": [],
   "source": [
    "def get_valid_moves(board):\n",
    "    empty_x, empty_y = np.where(board == 0)\n",
    "    x_neighbors = []\n",
    "    y_neighbors = []\n",
    "    if (empty_x - 1) >= 0:\n",
    "        x_neighbors.append(empty_x - 1)\n",
    "    if (empty_x + 1) <= board.shape[0]:\n",
    "        x_neighbors.append(empty_x + 1)\n",
    "    if (empty_y - 1) >= 0:\n",
    "        y_neighbors.append(empty_y - 1)\n",
    "    if (empty_y + 1) <= board.shape[1]:\n",
    "        y_neighbors.append(empty_y + 1)\n",
    "\n",
    "    valid_neighbors = [[int(x[0]),int(empty_y)] for x in x_neighbors] + [[int(empty_x),int(y[0])] for y in y_neighbors]\n",
    "    return valid_neighbors"
   ]
  },
  {
   "cell_type": "code",
   "execution_count": 57,
   "metadata": {},
   "outputs": [],
   "source": [
    "def where(board, val):\n",
    "    return [int(i) for i in np.where(board==val)]"
   ]
  },
  {
   "cell_type": "code",
   "execution_count": 58,
   "metadata": {},
   "outputs": [
    {
     "name": "stdout",
     "output_type": "stream",
     "text": [
      "6\n",
      "8\n"
     ]
    }
   ],
   "source": [
    "empty_x, empty_y = where(board, 0)\n",
    "for n in get_valid_moves(board):\n",
    "    x,y = n\n",
    "    print(board[x,y])"
   ]
  },
  {
   "cell_type": "code",
   "execution_count": 51,
   "metadata": {},
   "outputs": [
    {
     "data": {
      "text/plain": [
       "[0, 0]"
      ]
     },
     "execution_count": 51,
     "metadata": {},
     "output_type": "execute_result"
    }
   ],
   "source": []
  },
  {
   "cell_type": "code",
   "execution_count": 64,
   "metadata": {},
   "outputs": [],
   "source": [
    "def swap(c_1, c_2, board):\n",
    "    c_1 = tuple(c_1)\n",
    "    c_2 = tuple(c_2)\n",
    "    board_copy = board.copy()\n",
    "    #b,a = a,b\n",
    "    board_copy[c_2], board_copy[c_1] = board_copy[c_1], board_copy[c_2]\n",
    "    return board_copy\n",
    "    "
   ]
  },
  {
   "cell_type": "code",
   "execution_count": 65,
   "metadata": {},
   "outputs": [
    {
     "data": {
      "text/plain": [
       "array([[6, 8, 1],\n",
       "       [0, 7, 3],\n",
       "       [2, 4, 5]])"
      ]
     },
     "execution_count": 65,
     "metadata": {},
     "output_type": "execute_result"
    }
   ],
   "source": [
    "empty = where(board, 0)\n",
    "move = get_valid_moves(board)[0]\n",
    "swap(empty, move, board)\n"
   ]
  },
  {
   "cell_type": "code",
   "execution_count": 63,
   "metadata": {},
   "outputs": [
    {
     "data": {
      "text/plain": [
       "6"
      ]
     },
     "execution_count": 63,
     "metadata": {},
     "output_type": "execute_result"
    }
   ],
   "source": [
    "board[tuple(move)]"
   ]
  },
  {
   "cell_type": "code",
   "execution_count": null,
   "metadata": {},
   "outputs": [],
   "source": []
  }
 ],
 "metadata": {
  "kernelspec": {
   "display_name": "Python [conda env:keras] *",
   "language": "python",
   "name": "conda-env-keras-py"
  },
  "language_info": {
   "codemirror_mode": {
    "name": "ipython",
    "version": 3
   },
   "file_extension": ".py",
   "mimetype": "text/x-python",
   "name": "python",
   "nbconvert_exporter": "python",
   "pygments_lexer": "ipython3",
   "version": "3.6.7"
  }
 },
 "nbformat": 4,
 "nbformat_minor": 4
}
